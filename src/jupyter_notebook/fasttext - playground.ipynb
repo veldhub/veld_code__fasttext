{
 "cells": [
  {
   "cell_type": "code",
   "execution_count": null,
   "id": "edb67469-48d4-4b50-91b7-283214baa401",
   "metadata": {},
   "outputs": [],
   "source": [
    "import fasttext\n",
    "import numpy as np"
   ]
  },
  {
   "cell_type": "code",
   "execution_count": null,
   "id": "be814cf4-ff7c-465d-85f0-f285973c2b4d",
   "metadata": {},
   "outputs": [],
   "source": [
    "!ls /veld/storage/"
   ]
  },
  {
   "cell_type": "code",
   "execution_count": null,
   "id": "d8f67728-2d90-441a-ba6d-282bc663cfdc",
   "metadata": {},
   "outputs": [],
   "source": [
    "model = fasttext.load_model(\"/veld/storage/\")"
   ]
  },
  {
   "cell_type": "code",
   "execution_count": null,
   "id": "3d6d3f91-4f47-4370-a2e9-5ef610cb2040",
   "metadata": {},
   "outputs": [],
   "source": [
    "print(model.get_word_vector(\"frau\"))"
   ]
  },
  {
   "cell_type": "code",
   "execution_count": null,
   "id": "2d224375-ff6c-4af8-853f-af85b8ec6d48",
   "metadata": {},
   "outputs": [],
   "source": [
    "def cos_sim_of_words(w1, w2):\n",
    "    v1 = model.get_word_vector(w1)\n",
    "    v2 = model.get_word_vector(w2)\n",
    "    dp = np.dot(v1, v2)\n",
    "    nv1 = np.linalg.norm(v1)\n",
    "    nv2 = np.linalg.norm(v2)\n",
    "    s = dp / (nv1 * nv2)\n",
    "    return s"
   ]
  },
  {
   "cell_type": "code",
   "execution_count": null,
   "id": "50e3d9c7-a668-4ca5-a524-9193e59715eb",
   "metadata": {},
   "outputs": [],
   "source": [
    "model.get_nearest_neighbors(\"frau\")"
   ]
  },
  {
   "cell_type": "code",
   "execution_count": null,
   "id": "86017bc4-1761-46b3-8647-13b794cc9cae",
   "metadata": {},
   "outputs": [],
   "source": [
    "cos_sim_of_words(\"frau\", \"mann\")"
   ]
  }
 ],
 "metadata": {
  "kernelspec": {
   "display_name": "Python 3 (ipykernel)",
   "language": "python",
   "name": "python3"
  },
  "language_info": {
   "codemirror_mode": {
    "name": "ipython",
    "version": 3
   },
   "file_extension": ".py",
   "mimetype": "text/x-python",
   "name": "python",
   "nbconvert_exporter": "python",
   "pygments_lexer": "ipython3",
   "version": "3.10.12"
  }
 },
 "nbformat": 4,
 "nbformat_minor": 5
}
